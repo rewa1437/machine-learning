{
 "cells": [
  {
   "cell_type": "markdown",
   "id": "55f90aa9",
   "metadata": {},
   "source": [
    "show all data"
   ]
  },
  {
   "cell_type": "code",
   "execution_count": 6,
   "id": "9471a7b8",
   "metadata": {},
   "outputs": [
    {
     "name": "stdout",
     "output_type": "stream",
     "text": [
      "ข้อมูลทั้งหมด: (71331, 41)\n",
      "       country     location_name  latitude  longitude        timezone  \\\n",
      "0  Afghanistan             Kabul     34.52      69.18      Asia/Kabul   \n",
      "1      Albania            Tirana     41.33      19.82   Europe/Tirane   \n",
      "2      Algeria           Algiers     36.76       3.05  Africa/Algiers   \n",
      "3      Andorra  Andorra La Vella     42.50       1.52  Europe/Andorra   \n",
      "4       Angola            Luanda     -8.84      13.23   Africa/Luanda   \n",
      "\n",
      "   last_updated_epoch      last_updated  temperature_celsius  \\\n",
      "0          1715849100  2024-05-16 13:15                 26.6   \n",
      "1          1715849100  2024-05-16 10:45                 19.0   \n",
      "2          1715849100  2024-05-16 09:45                 23.0   \n",
      "3          1715849100  2024-05-16 10:45                  6.3   \n",
      "4          1715849100  2024-05-16 09:45                 26.0   \n",
      "\n",
      "   temperature_fahrenheit condition_text  ...  air_quality_PM2.5  \\\n",
      "0                    79.8  Partly Cloudy  ...                8.4   \n",
      "1                    66.2  Partly cloudy  ...                1.1   \n",
      "2                    73.4          Sunny  ...               10.4   \n",
      "3                    43.3  Light drizzle  ...                0.7   \n",
      "4                    78.8  Partly cloudy  ...              183.4   \n",
      "\n",
      "   air_quality_PM10  air_quality_us-epa-index air_quality_gb-defra-index  \\\n",
      "0              26.6                         1                          1   \n",
      "1               2.0                         1                          1   \n",
      "2              18.4                         1                          1   \n",
      "3               0.9                         1                          1   \n",
      "4             262.3                         5                         10   \n",
      "\n",
      "    sunrise    sunset  moonrise   moonset      moon_phase  moon_illumination  \n",
      "0  04:50 AM  06:50 PM  12:12 PM  01:11 AM  Waxing Gibbous                 55  \n",
      "1  05:21 AM  07:54 PM  12:58 PM  02:14 AM  Waxing Gibbous                 55  \n",
      "2  05:40 AM  07:50 PM  01:15 PM  02:14 AM  Waxing Gibbous                 55  \n",
      "3  06:31 AM  09:11 PM  02:12 PM  03:31 AM  Waxing Gibbous                 55  \n",
      "4  06:12 AM  05:55 PM  01:17 PM  12:38 AM  Waxing Gibbous                 55  \n",
      "\n",
      "[5 rows x 41 columns]\n"
     ]
    }
   ],
   "source": [
    "import pandas as pd\n",
    "\n",
    "df = pd.read_csv(\"../data/GlobalWeatherRepository_new_update.csv\")\n",
    "\n",
    "print(\"ข้อมูลทั้งหมด:\", df.shape)\n",
    "print(df.head())\n"
   ]
  },
  {
   "cell_type": "markdown",
   "id": "1897c4ce",
   "metadata": {},
   "source": [
    "select feature"
   ]
  },
  {
   "cell_type": "code",
   "execution_count": null,
   "id": "1faee9ed",
   "metadata": {},
   "outputs": [
    {
     "name": "stdout",
     "output_type": "stream",
     "text": [
      "Missing values:\n",
      " temperature_celsius             0\n",
      "humidity                        0\n",
      "wind_kph                        0\n",
      "pressure_mb                     0\n",
      "precip_mm                       0\n",
      "cloud                           0\n",
      "air_quality_Carbon_Monoxide     1\n",
      "air_quality_Ozone               0\n",
      "air_quality_Nitrogen_dioxide    0\n",
      "air_quality_Sulphur_dioxide     0\n",
      "air_quality_PM10                1\n",
      "dtype: int64\n"
     ]
    }
   ],
   "source": [
    "features = [\n",
    "    'temperature_celsius',\n",
    "    'humidity',\n",
    "    'wind_kph',\n",
    "    'pressure_mb',\n",
    "    'precip_mm',\n",
    "    'cloud',\n",
    "    'air_quality_Carbon_Monoxide',\n",
    "    'air_quality_Ozone',\n",
    "    'air_quality_Nitrogen_dioxide',\n",
    "    'air_quality_Sulphur_dioxide',\n",
    "    'air_quality_PM10'\n",
    "]\n",
    "\n",
    "target = 'air_quality_PM2.5'\n",
    "\n",
    "X = df[features]\n",
    "y = df[target]\n",
    "\n",
    "\n"
   ]
  }
 ],
 "metadata": {
  "kernelspec": {
   "display_name": "ml_env",
   "language": "python",
   "name": "python3"
  },
  "language_info": {
   "codemirror_mode": {
    "name": "ipython",
    "version": 3
   },
   "file_extension": ".py",
   "mimetype": "text/x-python",
   "name": "python",
   "nbconvert_exporter": "python",
   "pygments_lexer": "ipython3",
   "version": "3.13.1"
  }
 },
 "nbformat": 4,
 "nbformat_minor": 5
}
